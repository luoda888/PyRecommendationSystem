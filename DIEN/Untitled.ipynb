{
 "cells": [
  {
   "cell_type": "code",
   "execution_count": 1,
   "metadata": {},
   "outputs": [],
   "source": [
    "import tensorflow as tf"
   ]
  },
  {
   "cell_type": "code",
   "execution_count": 2,
   "metadata": {},
   "outputs": [],
   "source": [
    "traing_samples_file_path = tf.keras.utils.get_file(\"trainingSamples.csv\", \"file:///D:/program/PyRecommendationSystem/DIEN/dataset/sampledata/trainingSamples.csv\")"
   ]
  },
  {
   "cell_type": "code",
   "execution_count": 3,
   "metadata": {},
   "outputs": [
    {
     "data": {
      "text/plain": [
       "'C:\\\\Users\\\\EDZ\\\\.keras\\\\datasets\\\\trainingSamples.csv'"
      ]
     },
     "execution_count": 3,
     "metadata": {},
     "output_type": "execute_result"
    }
   ],
   "source": [
    "traing_samples_file_path"
   ]
  },
  {
   "cell_type": "code",
   "execution_count": 4,
   "metadata": {},
   "outputs": [],
   "source": [
    "import pandas as pd\n",
    "import random\n",
    "def get_dataset_with_negtive_movie(path, batch_size, seed_num):\n",
    "    tmp_df = pd.read_csv(path)\n",
    "    tmp_df.fillna(0, inplace=True)\n",
    "    random.seed(seed_num)\n",
    "    negative_movie_df = tmp_df.loc[:, 'userRatedMovie2':'userRatedMovie5'].applymap(lambda x: random.sample(set(range(0, 1001))-set([int(x)]), 1)[0])\n",
    "    negative_movie_df.columns = ['negtive_userRatedMovie2','negtive_userRatedMovie3','negtive_userRatedMovie4','negtive_userRatedMovie5']\n",
    "    tmp_df = pd.concat([tmp_df, negative_movie_df], axis=1)\n",
    "    \n",
    "    for i in tmp_df.select_dtypes('O').columns:\n",
    "        print(i)\n",
    "        tmp_df[i] = tmp_df[i].astype('str')\n",
    "        \n",
    "    if tf.__version__ < '2.3.0':\n",
    "        tmp_df = tmp_df.sample(n=batch_size*(len(tmp_df)//batch_size), random_state=seed_num)\n",
    "    \n",
    "    dataset = tf.data.Dataset.from_tensor_slices((dict(tmp_df)))\n",
    "    dataset = dataset.batch(batch_size)\n",
    "    return dataset"
   ]
  },
  {
   "cell_type": "code",
   "execution_count": 5,
   "metadata": {},
   "outputs": [
    {
     "name": "stdout",
     "output_type": "stream",
     "text": [
      "movieGenre1\n",
      "movieGenre2\n",
      "movieGenre3\n",
      "userGenre1\n",
      "userGenre2\n",
      "userGenre3\n",
      "userGenre4\n",
      "userGenre5\n"
     ]
    }
   ],
   "source": [
    "train_dataset = get_dataset_with_negtive_movie(traing_samples_file_path, 12, seed_num=2020)"
   ]
  },
  {
   "cell_type": "code",
   "execution_count": 6,
   "metadata": {},
   "outputs": [
    {
     "name": "stdout",
     "output_type": "stream",
     "text": [
      "{'movieId': <tf.Tensor: shape=(12,), dtype=int64, numpy=\n",
      "array([110, 110, 110, 111, 111, 112, 121, 125,  14, 140, 140, 141],\n",
      "      dtype=int64)>, 'userId': <tf.Tensor: shape=(12,), dtype=int64, numpy=\n",
      "array([25912,  6613,   675, 24269, 27990, 28675, 18634,  1436,  5325,\n",
      "       24269, 26005, 14887], dtype=int64)>, 'rating': <tf.Tensor: shape=(12,), dtype=float64, numpy=array([2.5, 4. , 5. , 3. , 5. , 4. , 4. , 4. , 3. , 1. , 3. , 4. ])>, 'timestamp': <tf.Tensor: shape=(12,), dtype=int64, numpy=\n",
      "array([1111631757,  844549987,  866568538,  856817370, 1197546406,\n",
      "       1111584204, 1140928282,  840205416,  885753655,  856815351,\n",
      "        831630191,  830155895], dtype=int64)>, 'label': <tf.Tensor: shape=(12,), dtype=int64, numpy=array([0, 1, 1, 0, 1, 1, 1, 1, 0, 0, 0, 1], dtype=int64)>, 'releaseYear': <tf.Tensor: shape=(12,), dtype=int64, numpy=\n",
      "array([1995, 1995, 1995, 1976, 1976, 1995, 1992, 1996, 1995, 1996, 1996,\n",
      "       1996], dtype=int64)>, 'movieGenre1': <tf.Tensor: shape=(12,), dtype=string, numpy=\n",
      "array([b'Action', b'Action', b'Action', b'Crime', b'Crime', b'Action',\n",
      "       b'Drama', b'Comedy', b'Drama', b'Drama', b'Drama', b'Comedy'],\n",
      "      dtype=object)>, 'movieGenre2': <tf.Tensor: shape=(12,), dtype=string, numpy=\n",
      "array([b'Drama', b'Drama', b'Drama', b'Drama', b'Drama', b'Adventure',\n",
      "       b'0', b'0', b'0', b'Romance', b'Romance', b'0'], dtype=object)>, 'movieGenre3': <tf.Tensor: shape=(12,), dtype=string, numpy=\n",
      "array([b'War', b'War', b'War', b'Thriller', b'Thriller', b'Comedy', b'0',\n",
      "       b'0', b'0', b'0', b'0', b'0'], dtype=object)>, 'movieRatingCount': <tf.Tensor: shape=(12,), dtype=int64, numpy=\n",
      "array([11637, 11637, 11637,  5305,  5305,  2577,   180,   788,  1278,\n",
      "        1103,  1103,  4859], dtype=int64)>, 'movieAvgRating': <tf.Tensor: shape=(12,), dtype=float64, numpy=\n",
      "array([4.04, 4.04, 4.04, 4.12, 4.12, 3.41, 3.73, 3.71, 3.39, 3.29, 3.29,\n",
      "       3.52])>, 'movieRatingStddev': <tf.Tensor: shape=(12,), dtype=float64, numpy=\n",
      "array([0.97, 0.97, 0.97, 0.85, 0.85, 0.95, 0.92, 0.93, 0.92, 1.03, 1.03,\n",
      "       0.96])>, 'userRatedMovie1': <tf.Tensor: shape=(12,), dtype=float64, numpy=\n",
      "array([356., 318.,  50., 161., 608., 832., 110.,  41., 781.,  58., 249.,\n",
      "        11.])>, 'userRatedMovie2': <tf.Tensor: shape=(12,), dtype=float64, numpy=\n",
      "array([104., 329., 111., 446., 441.,   0., 337., 800.,   0., 608.,  62.,\n",
      "        32.])>, 'userRatedMovie3': <tf.Tensor: shape=(12,), dtype=float64, numpy=\n",
      "array([165., 457., 593., 299.,  47.,   0., 515., 778.,   0., 733., 235.,\n",
      "       161.])>, 'userRatedMovie4': <tf.Tensor: shape=(12,), dtype=float64, numpy=\n",
      "array([380., 316., 318., 497., 858.,   0., 475., 247.,   0.,  36., 141.,\n",
      "        21.])>, 'userRatedMovie5': <tf.Tensor: shape=(12,), dtype=float64, numpy=\n",
      "array([592., 593.,  47., 594., 592.,   0., 949., 319.,   0.,  17., 282.,\n",
      "       349.])>, 'userRatingCount': <tf.Tensor: shape=(12,), dtype=int64, numpy=array([17, 16, 40, 77, 16,  3, 28, 57,  5, 18, 39, 23], dtype=int64)>, 'userAvgReleaseYear': <tf.Tensor: shape=(12,), dtype=int64, numpy=\n",
      "array([1988, 1993, 1993, 1990, 1992, 1995, 1973, 1993, 1995, 1994, 1993,\n",
      "       1993], dtype=int64)>, 'userReleaseYearStddev': <tf.Tensor: shape=(12,), dtype=float64, numpy=\n",
      "array([15.28,  1.83,  5.56, 13.54,  5.84,  1.  , 22.67,  1.52,  0.45,\n",
      "        4.36,  3.22,  1.74])>, 'userAvgRating': <tf.Tensor: shape=(12,), dtype=float64, numpy=\n",
      "array([3.53, 4.25, 3.27, 3.17, 3.34, 3.17, 3.89, 3.35, 3.2 , 3.11, 3.44,\n",
      "       3.39])>, 'userRatingStddev': <tf.Tensor: shape=(12,), dtype=float64, numpy=\n",
      "array([1.37, 0.68, 0.85, 1.02, 1.15, 0.76, 0.63, 0.92, 0.45, 0.9 , 0.79,\n",
      "       0.58])>, 'userGenre1': <tf.Tensor: shape=(12,), dtype=string, numpy=\n",
      "array([b'Comedy', b'Crime', b'Thriller', b'Drama', b'Drama', b'Thriller',\n",
      "       b'Drama', b'Thriller', b'Drama', b'Drama', b'Drama', b'Thriller'],\n",
      "      dtype=object)>, 'userGenre2': <tf.Tensor: shape=(12,), dtype=string, numpy=\n",
      "array([b'Action', b'Thriller', b'Crime', b'Romance', b'Thriller',\n",
      "       b'Crime', b'Romance', b'Drama', b'0', b'Thriller', b'Comedy',\n",
      "       b'Drama'], dtype=object)>, 'userGenre3': <tf.Tensor: shape=(12,), dtype=string, numpy=\n",
      "array([b'Romance', b'Action', b'Drama', b'Comedy', b'Crime', b'0',\n",
      "       b'Adventure', b'Crime', b'0', b'Romance', b'Crime', b'Crime'],\n",
      "      dtype=object)>, 'userGenre4': <tf.Tensor: shape=(12,), dtype=string, numpy=\n",
      "array([b'Adventure', b'Adventure', b'Mystery', b'Thriller', b'Comedy',\n",
      "       b'0', b'War', b'Comedy', b'0', b'Crime', b'Thriller', b'Action'],\n",
      "      dtype=object)>, 'userGenre5': <tf.Tensor: shape=(12,), dtype=string, numpy=\n",
      "array([b'Thriller', b'Drama', b'Romance', b'Crime', b'Adventure', b'0',\n",
      "       b'Comedy', b'Mystery', b'0', b'Comedy', b'Children', b'Adventure'],\n",
      "      dtype=object)>, 'negtive_userRatedMovie2': <tf.Tensor: shape=(12,), dtype=int64, numpy=\n",
      "array([544, 497, 760, 705,  90, 647, 452,  60,  75, 187, 684, 976],\n",
      "      dtype=int64)>, 'negtive_userRatedMovie3': <tf.Tensor: shape=(12,), dtype=int64, numpy=\n",
      "array([817, 216, 221, 516,  82,  92, 672, 876, 285, 649, 320, 728],\n",
      "      dtype=int64)>, 'negtive_userRatedMovie4': <tf.Tensor: shape=(12,), dtype=int64, numpy=\n",
      "array([592, 613, 732, 754, 702, 224, 305, 886, 685, 574,  81, 221],\n",
      "      dtype=int64)>, 'negtive_userRatedMovie5': <tf.Tensor: shape=(12,), dtype=int64, numpy=\n",
      "array([942,  61,  41, 636, 105, 151, 140, 593, 497, 960, 492, 947],\n",
      "      dtype=int64)>}\n"
     ]
    }
   ],
   "source": [
    "for i, data in enumerate(train_dataset):\n",
    "    if i == 1:\n",
    "        print(data)\n",
    "        break"
   ]
  },
  {
   "cell_type": "code",
   "execution_count": 7,
   "metadata": {},
   "outputs": [],
   "source": [
    "# Config\n",
    "RECENT_MOVIES = 5\n",
    "EMBEDDING_SIZE = 10\n",
    "\n",
    "# define input for keras model\n",
    "inputs = {\n",
    "    'movieAvgRating':  tf.keras.layers.Input(name='movieAvgRating', shape=(), dtype='float32'),\n",
    "    'movieRatingStddev': tf.keras.layers.Input(name='movieRatingStddev', shape=(), dtype='float32'),\n",
    "    'movieRatingCount': tf.keras.layers.Input(name='movieRatingCount', shape=(), dtype='int32'),\n",
    "    'userAvgRating': tf.keras.layers.Input(name='userAvgRating', shape=(), dtype='float32'),\n",
    "    'userRatingStddev': tf.keras.layers.Input(name='userRatingStddev', shape=(), dtype='float32'),\n",
    "    'userRatingCount': tf.keras.layers.Input(name='userRatingCount', shape=(), dtype='int32'),\n",
    "    'releaseYear': tf.keras.layers.Input(name='releaseYear', shape=(), dtype='int32'),\n",
    "    \n",
    "    'movieId': tf.keras.layers.Input(name='movieId', shape=(), dtype='int32'),\n",
    "    'userId': tf.keras.layers.Input(name='userId', shape=(), dtype='int32'),\n",
    "    'userRatedMovie1': tf.keras.layers.Input(name='userRatedMovie1', shape=(), dtype='int32'),\n",
    "    'userRatedMovie2': tf.keras.layers.Input(name='userRatedMovie2', shape=(), dtype='int32'),\n",
    "    'userRatedMovie3': tf.keras.layers.Input(name='userRatedMovie3', shape=(), dtype='int32'),\n",
    "    'userRatedMovie4': tf.keras.layers.Input(name='userRatedMovie4', shape=(), dtype='int32'),\n",
    "    'userRatedMovie5': tf.keras.layers.Input(name='userRatedMovie5', shape=(), dtype='int32'),\n",
    "    \n",
    "    'userGenre1': tf.keras.layers.Input(name='userGenre1', shape=(), dtype='string'),\n",
    "    'userGenre2': tf.keras.layers.Input(name='userGenre2', shape=(), dtype='string'),\n",
    "    'userGenre3': tf.keras.layers.Input(name='userGenre3', shape=(), dtype='string'),\n",
    "    'userGenre4': tf.keras.layers.Input(name='userGenre4', shape=(), dtype='string'),\n",
    "    'userGenre5': tf.keras.layers.Input(name='userGenre5', shape=(), dtype='string'),\n",
    "    'movieGenre1': tf.keras.layers.Input(name='movieGenre1', shape=(), dtype='string'),\n",
    "    'movieGenre2': tf.keras.layers.Input(name='movieGenre2', shape=(), dtype='string'),\n",
    "    'movieGenre3': tf.keras.layers.Input(name='movieGenre3', shape=(), dtype='string'),\n",
    "    \n",
    "    'negtive_userRatedMovie2': tf.keras.layers.Input(name='negtive_userRatedMovie2', shape=(), dtype='int32'),\n",
    "    'negtive_userRatedMovie3': tf.keras.layers.Input(name='negtive_userRatedMovie3', shape=(), dtype='int32'),\n",
    "    'negtive_userRatedMovie4': tf.keras.layers.Input(name='negtive_userRatedMovie4', shape=(), dtype='int32'),\n",
    "    'negtive_userRatedMovie5': tf.keras.layers.Input(name='negtive_userRatedMovie5', shape=(), dtype='int32'),\n",
    "    \n",
    "    'label':tf.keras.layers.Input(name='label', shape=(), dtype='int32')\n",
    "}"
   ]
  },
  {
   "cell_type": "code",
   "execution_count": 8,
   "metadata": {},
   "outputs": [],
   "source": [
    "# user id embedding feature\n",
    "user_col = tf.feature_column.categorical_column_with_identity(key='userId', num_buckets=30001)\n",
    "user_emb_col = tf.feature_column.embedding_column(user_col, EMBEDDING_SIZE)"
   ]
  },
  {
   "cell_type": "code",
   "execution_count": 9,
   "metadata": {},
   "outputs": [
    {
     "data": {
      "text/plain": [
       "EmbeddingColumn(categorical_column=IdentityCategoricalColumn(key='userId', number_buckets=30001, default_value=None), dimension=10, combiner='mean', initializer=<tensorflow.python.ops.init_ops.TruncatedNormal object at 0x0000000004BF9198>, ckpt_to_load_from=None, tensor_name_in_ckpt=None, max_norm=None, trainable=True, use_safe_embedding_lookup=True)"
      ]
     },
     "execution_count": 9,
     "metadata": {},
     "output_type": "execute_result"
    }
   ],
   "source": [
    "user_emb_col"
   ]
  },
  {
   "cell_type": "code",
   "execution_count": 10,
   "metadata": {},
   "outputs": [],
   "source": [
    "# genre feature vocabulary\n",
    "genre_vocab = ['Film-Noir', 'Action', 'Adventure', 'Horror', 'Romance', 'War', 'Comedy', 'Western', 'Documentary',\n",
    "               'Sci-Fi', 'Drama', 'Thriller', 'Crime', 'Fantasy', 'Animation', 'IMAX', 'Mystery', 'Children', 'Musical']"
   ]
  },
  {
   "cell_type": "code",
   "execution_count": null,
   "metadata": {},
   "outputs": [],
   "source": []
  },
  {
   "cell_type": "code",
   "execution_count": 11,
   "metadata": {},
   "outputs": [],
   "source": [
    "# user genre embedding feature\n",
    "user_genre_col = tf.feature_column.categorical_column_with_vocabulary_list(key=\"userGenre1\", vocabulary_list=genre_vocab)\n",
    "user_genre_embed_col = tf.feature_column.embedding_column(user_genre_col, EMBEDDING_SIZE)"
   ]
  },
  {
   "cell_type": "code",
   "execution_count": 12,
   "metadata": {},
   "outputs": [],
   "source": [
    "# item genre embedding feature\n",
    "item_genre_col = tf.feature_column.categorical_column_with_vocabulary_list(key=\"movieGenre1\", vocabulary_list=genre_vocab)\n",
    "item_embed_col = tf.feature_column.embedding_column(item_genre_col, EMBEDDING_SIZE)"
   ]
  },
  {
   "cell_type": "code",
   "execution_count": 13,
   "metadata": {},
   "outputs": [],
   "source": [
    "candidate_movie_col = [tf.feature_column.numeric_column(key='movieId', default_value=0)]"
   ]
  },
  {
   "cell_type": "code",
   "execution_count": 14,
   "metadata": {},
   "outputs": [],
   "source": [
    "# user behaviors\n",
    "recent_rate_col = [\n",
    "    tf.feature_column.numeric_column(key='userRatedMovie1', default_value=0),\n",
    "    tf.feature_column.numeric_column(key='userRatedMovie2', default_value=0),\n",
    "    tf.feature_column.numeric_column(key='userRatedMovie3', default_value=0),\n",
    "    tf.feature_column.numeric_column(key='userRatedMovie4', default_value=0),\n",
    "    tf.feature_column.numeric_column(key='userRatedMovie5', default_value=0),\n",
    "]"
   ]
  },
  {
   "cell_type": "code",
   "execution_count": 15,
   "metadata": {},
   "outputs": [],
   "source": [
    "negative_movie_col = [\n",
    "    tf.feature_column.numeric_column(key='negtive_userRatedMovie2', default_value=0),\n",
    "    tf.feature_column.numeric_column(key='negtive_userRatedMovie3', default_value=0),\n",
    "    tf.feature_column.numeric_column(key='negtive_userRatedMovie4', default_value=0),\n",
    "    tf.feature_column.numeric_column(key='negtive_userRatedMovie5', default_value=0),\n",
    "]"
   ]
  },
  {
   "cell_type": "code",
   "execution_count": 16,
   "metadata": {},
   "outputs": [],
   "source": [
    "# user profile\n",
    "user_profile = [\n",
    "    user_emb_col,\n",
    "    user_genre_embed_col,\n",
    "    tf.feature_column.numeric_column(\"userRatingCount\"),\n",
    "    tf.feature_column.numeric_column(\"userAvgRating\"),\n",
    "    tf.feature_column.numeric_column(\"userRatingStddev\")\n",
    "]"
   ]
  },
  {
   "cell_type": "code",
   "execution_count": 17,
   "metadata": {},
   "outputs": [],
   "source": [
    "# context feature\n",
    "context_feature = [\n",
    "    item_embed_col,\n",
    "    tf.feature_column.numeric_column('releaseYear'),\n",
    "    tf.feature_column.numeric_column('movieRatingCount'),\n",
    "    tf.feature_column.numeric_column('movieAvgRating'),\n",
    "    tf.feature_column.numeric_column('movieRatingStddev'),\n",
    "]"
   ]
  },
  {
   "cell_type": "code",
   "execution_count": 18,
   "metadata": {},
   "outputs": [],
   "source": [
    "label = [tf.feature_column.numeric_column(key='label', default_value=0),]"
   ]
  },
  {
   "cell_type": "code",
   "execution_count": 19,
   "metadata": {},
   "outputs": [],
   "source": [
    "candidate_layer = tf.keras.layers.DenseFeatures(candidate_movie_col)(inputs)\n",
    "user_behaviors_layer = tf.keras.layers.DenseFeatures(recent_rate_col)(inputs)\n",
    "negative_movie_layer = tf.keras.layers.DenseFeatures(negative_movie_col)(inputs)\n",
    "user_profile_layer = tf.keras.layers.DenseFeatures(user_profile)(inputs)\n",
    "context_feature_layer = tf.keras.layers.DenseFeatures(context_feature)(inputs)\n",
    "y_true = tf.keras.layers.DenseFeatures(label)(inputs)"
   ]
  },
  {
   "cell_type": "code",
   "execution_count": 20,
   "metadata": {},
   "outputs": [],
   "source": [
    "# Activate Unit\n",
    "movie_emb_layer = tf.keras.layers.Embedding(input_dim=1001, output_dim=EMBEDDING_SIZE, mask_zero=True)"
   ]
  },
  {
   "cell_type": "code",
   "execution_count": 21,
   "metadata": {},
   "outputs": [],
   "source": [
    "user_behaviors_emb_layer = movie_emb_layer(user_behaviors_layer)\n",
    "candidate_emb_layer = movie_emb_layer(candidate_layer)\n",
    "negative_movie_emd_layer = movie_emb_layer(negative_movie_layer)"
   ]
  },
  {
   "cell_type": "code",
   "execution_count": null,
   "metadata": {},
   "outputs": [],
   "source": [
    "class attentiom(tf.keras.layers.Layer):\n",
    "    \n",
    "    def __init__(self, embedding_size=EMBEDDING_SIZE, time_length=5, ):\n",
    "        super().__init__()\n",
    "        self.time_length = time_length\n",
    "        self.embedding_size = embedding_size\n",
    "        self.RepeatVector_time = tf.keras.layers.RepeatVector(self.time_length)\n",
    "        self.RepeatVector_emb = tf.keras.layers.RepeatVector(self.embedding_size)\n",
    "        self.Muitiply = tf.keras.layers.Multiply()\n",
    "        self.Dense32 = tf.keras.layers.Dense(32, activation='sigmoid')\n",
    "        self.Dense1 = tf.keras.layers.Dense(1, activation='sigmoid')\n",
    "        self.Flatten = tf.keras.layers.Flatten()\n",
    "        self.Permute = tf.keras"
   ]
  }
 ],
 "metadata": {
  "kernelspec": {
   "display_name": "Python 3",
   "language": "python",
   "name": "python3"
  },
  "language_info": {
   "codemirror_mode": {
    "name": "ipython",
    "version": 3
   },
   "file_extension": ".py",
   "mimetype": "text/x-python",
   "name": "python",
   "nbconvert_exporter": "python",
   "pygments_lexer": "ipython3",
   "version": "3.7.0"
  }
 },
 "nbformat": 4,
 "nbformat_minor": 2
}
