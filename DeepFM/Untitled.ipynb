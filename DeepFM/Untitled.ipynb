{
 "cells": [
  {
   "cell_type": "code",
   "execution_count": 1,
   "metadata": {},
   "outputs": [],
   "source": [
    "import tensorflow as tf"
   ]
  },
  {
   "cell_type": "code",
   "execution_count": 2,
   "metadata": {},
   "outputs": [],
   "source": [
    "training_samples_file_path = tf.keras.utils.get_file(\"trainingSamples.csv\", \"file:///D:/program/SparrowRecSys/src/main/resources/webroot/sampledata/traingSamples.csv\")\n",
    "test_samples_file_path = tf.keras.utils.get_file(\"testSamples.csv\", \"file:///D:/program/SparrowRecSys/src/main/resources/webroot/sampledata/testSamples.csv\")"
   ]
  },
  {
   "cell_type": "code",
   "execution_count": 3,
   "metadata": {},
   "outputs": [],
   "source": [
    "def get_dataset(file_path):\n",
    "    dataset = tf.data.experimental.make_csv_dataset(\n",
    "        file_path,\n",
    "        batch_size=12,\n",
    "        label_name=\"label\",\n",
    "        na_value = \"0\",\n",
    "        num_epochs=1,\n",
    "        ignore_errors=True\n",
    "    )\n",
    "    return dataset"
   ]
  },
  {
   "cell_type": "code",
   "execution_count": 4,
   "metadata": {},
   "outputs": [],
   "source": [
    "train_dataset = get_dataset(training_samples_file_path)\n",
    "test_dataset = get_dataset(test_samples_file_path)"
   ]
  },
  {
   "cell_type": "code",
   "execution_count": 5,
   "metadata": {},
   "outputs": [],
   "source": [
    "inputs = {\n",
    "    'movieAvgRating': tf.keras.layers.Input(name='movieAvgRating', shape=(), dtype='float32'),\n",
    "    'movieRatingStddev': tf.keras.layers.Input(name='movieRatingStddev', shape=(), dtype='float32'),\n",
    "    'movieRatingCount': tf.keras.layers.Input(name='movieRatingCount', shape=(), dtype='int32'),\n",
    "    'userAvgRating': tf.keras.layers.Input(name='userAvgRating', shape=(), dtype='float32'),\n",
    "    'userRatingStddev': tf.keras.layers.Input(name='userRatingStddev', shape=(), dtype='float32'),\n",
    "    'userRatingCount': tf.keras.layers.Input(name='userRatingCount', shape=(), dtype='int32'),\n",
    "    'releaseYear': tf.keras.layers.Input(name='releaseYear', shape=(), dtype='int32'),\n",
    "\n",
    "    'movieId': tf.keras.layers.Input(name='movieId', shape=(), dtype='int32'),\n",
    "    'userId': tf.keras.layers.Input(name='userId', shape=(), dtype='int32'),\n",
    "    'userRatedMovie1': tf.keras.layers.Input(name='userRatedMovie1', shape=(), dtype='int32'),\n",
    "\n",
    "    'userGenre1': tf.keras.layers.Input(name='userGenre1', shape=(), dtype='string'),\n",
    "    'userGenre2': tf.keras.layers.Input(name='userGenre2', shape=(), dtype='string'),\n",
    "    'userGenre3': tf.keras.layers.Input(name='userGenre3', shape=(), dtype='string'),\n",
    "    'userGenre4': tf.keras.layers.Input(name='userGenre4', shape=(), dtype='string'),\n",
    "    'userGenre5': tf.keras.layers.Input(name='userGenre5', shape=(), dtype='string'),\n",
    "    'movieGenre1': tf.keras.layers.Input(name='movieGenre1', shape=(), dtype='string'),\n",
    "    'movieGenre2': tf.keras.layers.Input(name='movieGenre2', shape=(), dtype='string'),\n",
    "    'movieGenre3': tf.keras.layers.Input(name='movieGenre3', shape=(), dtype='string'), \n",
    "}"
   ]
  },
  {
   "cell_type": "code",
   "execution_count": 6,
   "metadata": {},
   "outputs": [],
   "source": [
    "# movie id embedding feature\n",
    "movie_col = tf.feature_column.categorical_column_with_identity(key='movieId', num_buckets=1001)\n",
    "movie_emb_col = tf.feature_column.embedding_column(movie_col, 10)\n",
    "movie_ind_col = tf.feature_column.indicator_column(movie_col)"
   ]
  },
  {
   "cell_type": "code",
   "execution_count": 7,
   "metadata": {},
   "outputs": [],
   "source": [
    "# user id embedding feature\n",
    "user_col = tf.feature_column.categorical_column_with_identity(key='userId', num_buckets=30001)\n",
    "user_emb_col = tf.feature_column.embedding_column(user_col, 10)\n",
    "user_ind_col = tf.feature_column.indicator_column(user_col)"
   ]
  },
  {
   "cell_type": "code",
   "execution_count": 8,
   "metadata": {},
   "outputs": [],
   "source": [
    "# genre features vocabulary\n",
    "genre_vocab = [\n",
    "    'Film-Noir', 'Action', 'Adventure', 'Horror', 'Romance', 'War', 'Comedy', 'Western', 'Documentary',\n",
    "    'Sci-Fi', 'Drama', 'Thriller', 'Crime', 'Fantasy', 'Animation', 'IMAX', 'Mystery', 'Children', 'Musical'\n",
    "]"
   ]
  },
  {
   "cell_type": "code",
   "execution_count": 9,
   "metadata": {},
   "outputs": [],
   "source": [
    "# user genre embedding feature\n",
    "user_genre_col = tf.feature_column.categorical_column_with_vocabulary_list(key='userGenre1', vocabulary_list=genre_vocab)\n",
    "user_genre_ind_col = tf.feature_column.indicator_column(user_genre_col)\n",
    "user_genre_emb_col = tf.feature_column.embedding_column(user_genre_col, 10)"
   ]
  },
  {
   "cell_type": "code",
   "execution_count": 10,
   "metadata": {},
   "outputs": [],
   "source": [
    "# item genre embeddiing feature\n",
    "item_genre_col = tf.feature_column.categorical_column_with_vocabulary_list(key='movieGenre1', vocabulary_list=genre_vocab)\n",
    "item_genre_ind_col = tf.feature_column.indicator_column(item_genre_col)\n",
    "item_genre_emb_col = tf.feature_column.embedding_column(item_genre_col, 10)"
   ]
  },
  {
   "cell_type": "code",
   "execution_count": 11,
   "metadata": {},
   "outputs": [],
   "source": [
    "# fm first-order categorical items\n",
    "cat_columns = [movie_ind_col, user_ind_col, user_genre_ind_col, item_genre_ind_col]"
   ]
  },
  {
   "cell_type": "code",
   "execution_count": 12,
   "metadata": {},
   "outputs": [],
   "source": [
    "deep_columns = [\n",
    "    tf.feature_column.numeric_column(\"releaseYear\"),\n",
    "    tf.feature_column.numeric_column(\"movieRatingCount\"),\n",
    "    tf.feature_column.numeric_column(\"movieAvgRating\"),\n",
    "    tf.feature_column.numeric_column(\"movieRatingStddev\"),\n",
    "    tf.feature_column.numeric_column(\"userRatingCount\"),\n",
    "    tf.feature_column.numeric_column(\"userAvgRating\"),\n",
    "    tf.feature_column.numeric_column(\"userRatingStddev\")\n",
    "]"
   ]
  },
  {
   "cell_type": "code",
   "execution_count": 13,
   "metadata": {},
   "outputs": [],
   "source": [
    "first_order_cat_feature = tf.keras.layers.DenseFeatures(cat_columns)(inputs)\n",
    "first_order_cat_feature = tf.keras.layers.Dense(1, activation=None)(first_order_cat_feature)\n",
    "first_order_deep_feature = tf.keras.layers.DenseFeatures(deep_columns)(inputs)\n",
    "first_order_deep_feature = tf.keras.layers.Dense(1, activation=None)(first_order_deep_feature)"
   ]
  },
  {
   "cell_type": "code",
   "execution_count": 14,
   "metadata": {},
   "outputs": [],
   "source": [
    "first_order_feature = tf.keras.layers.Add()([first_order_cat_feature, first_order_deep_feature])"
   ]
  },
  {
   "cell_type": "code",
   "execution_count": 15,
   "metadata": {},
   "outputs": [],
   "source": [
    "second_order_cat_columns_emb = [\n",
    "    tf.keras.layers.DenseFeatures([item_genre_emb_col])(inputs),\n",
    "    tf.keras.layers.DenseFeatures([movie_emb_col])(inputs),\n",
    "    tf.keras.layers.DenseFeatures([user_genre_emb_col])(inputs),\n",
    "    tf.keras.layers.DenseFeatures([user_emb_col])(inputs)\n",
    "]"
   ]
  },
  {
   "cell_type": "code",
   "execution_count": 16,
   "metadata": {},
   "outputs": [],
   "source": [
    "second_order_cat_columns = []\n",
    "for feature_emb in second_order_cat_columns_emb:\n",
    "    feature = tf.keras.layers.Dense(64, activation=None)(feature_emb)\n",
    "    feature = tf.keras.layers.Reshape((-1, 64))(feature)\n",
    "    second_order_cat_columns.append(feature)"
   ]
  },
  {
   "cell_type": "code",
   "execution_count": 17,
   "metadata": {},
   "outputs": [],
   "source": [
    "second_order_deep_columns = tf.keras.layers.DenseFeatures(deep_columns)(inputs)\n",
    "second_order_deep_columns = tf.keras.layers.Dense(64, activation=None)(second_order_deep_columns)\n",
    "second_order_deep_columns = tf.keras.layers.Reshape((-1, 64))(second_order_deep_columns)\n",
    "second_order_fm_feature = tf.keras.layers.Concatenate(axis=1)(second_order_cat_columns + [second_order_deep_columns])"
   ]
  },
  {
   "cell_type": "code",
   "execution_count": 18,
   "metadata": {},
   "outputs": [],
   "source": [
    "# second_order_deep_feature\n",
    "deep_feature = tf.keras.layers.Flatten()(second_order_fm_feature)\n",
    "deep_feature = tf.keras.layers.Dense(32, activation='relu')(deep_feature)\n",
    "deep_feature = tf.keras.layers.Dense(16, activation='relu')(deep_feature)"
   ]
  },
  {
   "cell_type": "code",
   "execution_count": 19,
   "metadata": {},
   "outputs": [],
   "source": [
    "class ReduceLayer(tf.keras.layers.Layer):\n",
    "    def __init__(self, axis, op='sum', **kwargs):\n",
    "        super().__init__()\n",
    "        self.axis = axis\n",
    "        self.op = op\n",
    "        assert self.op in ['sum', 'mean']\n",
    "    \n",
    "    def build(self, input_shape):\n",
    "        pass\n",
    "    \n",
    "    def call(self, input, **kwargs):\n",
    "        if self.op == 'sum':\n",
    "            return tf.reduce_sum(input, axis=self.axis)\n",
    "        elif self.op == 'mean':\n",
    "            return tf.reduce_mean(input, axis=self.axis)\n",
    "        return tf.reduce_sum(input, axis=self.axis)"
   ]
  },
  {
   "cell_type": "code",
   "execution_count": 20,
   "metadata": {},
   "outputs": [],
   "source": [
    "second_order_sum_feature = ReduceLayer(1)(second_order_fm_feature)\n",
    "second_order_sum_square_feature = tf.keras.layers.multiply([second_order_sum_feature, second_order_sum_feature])\n",
    "second_order_square_feature = tf.keras.layers.multiply([second_order_fm_feature, second_order_fm_feature])\n",
    "second_order_square_sum_feature = ReduceLayer(1)(second_order_square_feature)"
   ]
  },
  {
   "cell_type": "code",
   "execution_count": 21,
   "metadata": {},
   "outputs": [],
   "source": [
    "second_order_fm_feature = tf.keras.layers.subtract([second_order_sum_square_feature, second_order_square_sum_feature])"
   ]
  },
  {
   "cell_type": "code",
   "execution_count": 22,
   "metadata": {},
   "outputs": [],
   "source": [
    "concatenated_output = tf.keras.layers.Concatenate(axis=1)([first_order_feature, second_order_fm_feature, deep_feature])\n",
    "output_layer = tf.keras.layers.Dense(1, activation='sigmoid')(concatenated_output)"
   ]
  },
  {
   "cell_type": "code",
   "execution_count": 23,
   "metadata": {},
   "outputs": [],
   "source": [
    "model = tf.keras.Model(inputs, output_layer)"
   ]
  },
  {
   "cell_type": "code",
   "execution_count": 24,
   "metadata": {},
   "outputs": [],
   "source": [
    "model.compile(\n",
    "    loss = 'binary_crossentropy',\n",
    "    optimizer = 'adam',\n",
    "    metrics = ['accuracy', tf.keras.metrics.AUC(curve='ROC'), tf.keras.metrics.AUC(curve='PR')]\n",
    ")"
   ]
  },
  {
   "cell_type": "code",
   "execution_count": 26,
   "metadata": {
    "scrolled": true
   },
   "outputs": [
    {
     "name": "stdout",
     "output_type": "stream",
     "text": [
      "Epoch 1/5\n"
     ]
    },
    {
     "name": "stderr",
     "output_type": "stream",
     "text": [
      "C:\\Users\\EDZ\\AppData\\Roaming\\Python\\Python37\\site-packages\\tensorflow\\python\\keras\\engine\\functional.py:543: UserWarning: Input dict contained keys ['rating', 'timestamp', 'userRatedMovie2', 'userRatedMovie3', 'userRatedMovie4', 'userRatedMovie5', 'userAvgReleaseYear', 'userReleaseYearStddev'] which did not match any model input. They will be ignored by the model.\n",
      "  [n for n in tensors.keys() if n not in ref_input_names])\n"
     ]
    },
    {
     "name": "stdout",
     "output_type": "stream",
     "text": [
      "7403/7403 [==============================] - 78s 11ms/step - loss: 7.5967 - accuracy: 0.5613 - auc: 0.5691 - auc_1: 0.6177\n",
      "Epoch 2/5\n",
      "7403/7403 [==============================] - 79s 11ms/step - loss: 0.7645 - accuracy: 0.6197 - auc: 0.6507 - auc_1: 0.6932\n",
      "Epoch 3/5\n",
      "7403/7403 [==============================] - 83s 11ms/step - loss: 0.6140 - accuracy: 0.6705 - auc: 0.7227 - auc_1: 0.7521\n",
      "Epoch 4/5\n",
      "7403/7403 [==============================] - 80s 11ms/step - loss: 0.5751 - accuracy: 0.7047 - auc: 0.7643 - auc_1: 0.7896\n",
      "Epoch 5/5\n",
      "7403/7403 [==============================] - 80s 11ms/step - loss: 0.5294 - accuracy: 0.7361 - auc: 0.8075 - auc_1: 0.8336\n"
     ]
    },
    {
     "data": {
      "text/plain": [
       "<tensorflow.python.keras.callbacks.History at 0x5046dd8>"
      ]
     },
     "execution_count": 26,
     "metadata": {},
     "output_type": "execute_result"
    }
   ],
   "source": [
    "# train the model\n",
    "model.fit(train_dataset, epochs=5)"
   ]
  },
  {
   "cell_type": "code",
   "execution_count": 27,
   "metadata": {},
   "outputs": [
    {
     "name": "stderr",
     "output_type": "stream",
     "text": [
      "C:\\Users\\EDZ\\AppData\\Roaming\\Python\\Python37\\site-packages\\tensorflow\\python\\keras\\engine\\functional.py:543: UserWarning: Input dict contained keys ['rating', 'timestamp', 'userRatedMovie2', 'userRatedMovie3', 'userRatedMovie4', 'userRatedMovie5', 'userAvgReleaseYear', 'userReleaseYearStddev'] which did not match any model input. They will be ignored by the model.\n",
      "  [n for n in tensors.keys() if n not in ref_input_names])\n"
     ]
    },
    {
     "name": "stdout",
     "output_type": "stream",
     "text": [
      "1870/1870 [==============================] - 8s 4ms/step - loss: 0.6084 - accuracy: 0.6811 - auc: 0.7376 - auc_1: 0.7648\n",
      "\n",
      "\n",
      " Test Loss 0.6084297895431519, Test Accuracy 0.6811051964759827, Test ROC AUC 0.7376347780227661, Test PR AUC 0.7648492455482483\n"
     ]
    }
   ],
   "source": [
    "test_loss, test_accuracy, test_roc_auc, test_pr_auc = model.evaluate(test_dataset)\n",
    "print('\\n\\n Test Loss {}, Test Accuracy {}, Test ROC AUC {}, Test PR AUC {}'.format(test_loss, test_accuracy, test_roc_auc, test_pr_auc))"
   ]
  },
  {
   "cell_type": "code",
   "execution_count": null,
   "metadata": {},
   "outputs": [],
   "source": []
  }
 ],
 "metadata": {
  "kernelspec": {
   "display_name": "Python 3",
   "language": "python",
   "name": "python3"
  },
  "language_info": {
   "codemirror_mode": {
    "name": "ipython",
    "version": 3
   },
   "file_extension": ".py",
   "mimetype": "text/x-python",
   "name": "python",
   "nbconvert_exporter": "python",
   "pygments_lexer": "ipython3",
   "version": "3.7.0"
  }
 },
 "nbformat": 4,
 "nbformat_minor": 2
}
