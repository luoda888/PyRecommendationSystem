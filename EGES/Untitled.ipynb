{
 "cells": [
  {
   "cell_type": "code",
   "execution_count": 3,
   "metadata": {},
   "outputs": [],
   "source": [
    "import pandas as pd\n",
    "import numpy as np\n",
    "from itertools import chain\n",
    "import pickle\n",
    "import time\n",
    "import networkx as nx\n",
    "\n",
    "from walker import RandomWalker\n",
    "\n",
    "from sklearn.preprocessing import LabelEncoder\n",
    "import argparse"
   ]
  },
  {
   "cell_type": "code",
   "execution_count": 4,
   "metadata": {},
   "outputs": [],
   "source": [
    "parser = argparse.ArgumentParser(description='manual to this script')\n",
    "parser.add_argument(\"--data_path\", type=str, default='./data/')\n",
    "parser.add_argument(\"--p\", type=float, default=0.25)\n",
    "parser.add_argument(\"--q\", type=float, default=2)\n",
    "parser.add_argument(\"--num_walks\", type=int, default=10)\n",
    "parser.add_argument(\"--walk_length\", type=int, default=10)\n",
    "parser.add_argument(\"--window_size\", type=int, default=5)\n",
    "args = parser.parse_known_args()[0]"
   ]
  },
  {
   "cell_type": "code",
   "execution_count": 5,
   "metadata": {},
   "outputs": [],
   "source": [
    "G = nx.read_edgelist('./data_cache/graph.csv', create_using=nx.DiGraph(), nodetype=None, data=[('weight', int)])"
   ]
  },
  {
   "cell_type": "code",
   "execution_count": 6,
   "metadata": {},
   "outputs": [],
   "source": [
    "walker = RandomWalker(G, p=args.p, q=args.q)"
   ]
  },
  {
   "cell_type": "code",
   "execution_count": 7,
   "metadata": {},
   "outputs": [],
   "source": [
    "walker.preprocess_transition_probs()"
   ]
  },
  {
   "cell_type": "code",
   "execution_count": 8,
   "metadata": {},
   "outputs": [
    {
     "name": "stderr",
     "output_type": "stream",
     "text": [
      "[Parallel(n_jobs=1)]: Using backend SequentialBackend with 1 concurrent workers.\n",
      "[Parallel(n_jobs=1)]: Done   1 out of   1 | elapsed: 13.7min finished\n"
     ]
    }
   ],
   "source": [
    "session_reproduce = walker.simulate_walks(num_walks=args.num_walks, walk_length=args.walk_length, verbose=1)"
   ]
  },
  {
   "cell_type": "code",
   "execution_count": 9,
   "metadata": {},
   "outputs": [],
   "source": [
    "session_reproduce = list(filter(lambda x: len(x) > 2, session_reproduce))"
   ]
  },
  {
   "cell_type": "code",
   "execution_count": 10,
   "metadata": {},
   "outputs": [],
   "source": [
    "def get_graph_context_all_pairs(walks, window_size):\n",
    "    all_pairs = []\n",
    "    for k in range(len(walks)):\n",
    "        for i in range(len(walks[k])):\n",
    "            for j in range(i-window_size, i+window_size):\n",
    "                if i == j or j < 0 or j >= len(walks[k]):\n",
    "                    continue\n",
    "                else:\n",
    "                    all_pairs.append([walks[k][i], walks[k][j]])\n",
    "\n",
    "    return np.array(all_pairs, dtype=np.int32)"
   ]
  },
  {
   "cell_type": "code",
   "execution_count": null,
   "metadata": {},
   "outputs": [],
   "source": [
    "all_pairs = get_graph_context_all_pairs(session_reproduce, 5)"
   ]
  },
  {
   "cell_type": "code",
   "execution_count": null,
   "metadata": {},
   "outputs": [],
   "source": []
  }
 ],
 "metadata": {
  "kernelspec": {
   "display_name": "Python 3",
   "language": "python",
   "name": "python3"
  },
  "language_info": {
   "codemirror_mode": {
    "name": "ipython",
    "version": 3
   },
   "file_extension": ".py",
   "mimetype": "text/x-python",
   "name": "python",
   "nbconvert_exporter": "python",
   "pygments_lexer": "ipython3",
   "version": "3.7.0"
  }
 },
 "nbformat": 4,
 "nbformat_minor": 2
}
