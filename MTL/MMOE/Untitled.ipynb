{
 "cells": [
  {
   "cell_type": "code",
   "execution_count": 1,
   "metadata": {},
   "outputs": [],
   "source": [
    "import tensorflow as tf\n",
    "import tensorflow.keras.backend as K"
   ]
  },
  {
   "cell_type": "markdown",
   "metadata": {},
   "source": [
    "1. expert_kernels (input_features * hidden_units * num_experts = 4 * 2 * 3)  \n",
    "#input_features = 4  \n",
    "#hidden_units = 2  \n",
    "#num_experts = 3  "
   ]
  },
  {
   "cell_type": "code",
   "execution_count": 2,
   "metadata": {},
   "outputs": [],
   "source": [
    "export_kernels = tf.constant([\n",
    "    [[1., 1., 1.], [2., 2., 1.]],\n",
    "    [[0.1, 0.5, 1.], [0.4, 0.1, 1.]],\n",
    "    [[1., 1., 1.], [2., 2., 1.]],\n",
    "    [[0., 1., 6.], [0., 2., 0.]]\n",
    "    ], dtype=tf.float64\n",
    ")"
   ]
  },
  {
   "cell_type": "markdown",
   "metadata": {},
   "source": [
    "2. gate_kernels (input_features * num_experts * num_tasks = 4 * 3 * 2)"
   ]
  },
  {
   "cell_type": "code",
   "execution_count": 3,
   "metadata": {},
   "outputs": [],
   "source": [
    "gate_kernels = [tf.constant([[0.1, 0.5, 1.], [0.4, 0.1, 1.], [1., 1., 1.], [2., 2., 1.]], dtype=tf.float64),\n",
    "                tf.constant([[1., 2., 1.], [4., 0.2, 1.5], [2., 1., 0.], [5., 2., 1.]], dtype=tf.float64)]"
   ]
  },
  {
   "cell_type": "markdown",
   "metadata": {},
   "source": [
    "#3. input samples (samples * input_features = 2 * 4)\n",
    "#input_features = 4"
   ]
  },
  {
   "cell_type": "code",
   "execution_count": 4,
   "metadata": {},
   "outputs": [],
   "source": [
    "inputs = tf.constant([[1., 2., 1., 0.], [4., 0.2, 1., 1.]], dtype=tf.float64)"
   ]
  },
  {
   "cell_type": "markdown",
   "metadata": {},
   "source": [
    "4. expert_outputs = input * expert_kernels (samples * hidden_units * num_experts = 2 * 2 * 3)  \n",
    "f_{i}(x) = activation(W_{i} * x + b)  \n",
    "samples = 2, hidden_units = 2, num_experts = 3  "
   ]
  },
  {
   "cell_type": "code",
   "execution_count": 8,
   "metadata": {},
   "outputs": [],
   "source": [
    "export_outputs = tf.tensordot(a=inputs, b=export_kernels, axes=1)"
   ]
  },
  {
   "cell_type": "code",
   "execution_count": 9,
   "metadata": {},
   "outputs": [
    {
     "data": {
      "text/plain": [
       "<tf.Tensor: shape=(2, 2, 3), dtype=float64, numpy=\n",
       "array([[[ 2.2 ,  3.  ,  4.  ],\n",
       "        [ 4.8 ,  4.2 ,  4.  ]],\n",
       "\n",
       "       [[ 5.02,  6.1 , 11.2 ],\n",
       "        [10.08, 12.02,  5.2 ]]])>"
      ]
     },
     "execution_count": 9,
     "metadata": {},
     "output_type": "execute_result"
    }
   ],
   "source": [
    "export_outputs"
   ]
  },
  {
   "cell_type": "markdown",
   "metadata": {},
   "source": [
    "#5.gate_outputs = input * gate_kernels (num_tasks * samples * num_experts = 2 * 2 * 3)  \n",
    "g^{k}(x) = activation(W_{g,k} * x + b)"
   ]
  },
  {
   "cell_type": "code",
   "execution_count": 10,
   "metadata": {},
   "outputs": [],
   "source": [
    "gate_outputs = []\n",
    "for index, gate_kernel in enumerate(gate_kernels):\n",
    "    gate_output = K.dot(x=inputs, y=gate_kernel)\n",
    "    gate_outputs.append(gate_output)"
   ]
  },
  {
   "cell_type": "code",
   "execution_count": 11,
   "metadata": {},
   "outputs": [
    {
     "data": {
      "text/plain": [
       "[<tf.Tensor: shape=(2, 3), dtype=float64, numpy=\n",
       " array([[1.9 , 1.7 , 4.  ],\n",
       "        [3.48, 5.02, 6.2 ]])>, <tf.Tensor: shape=(2, 3), dtype=float64, numpy=\n",
       " array([[11.  ,  3.4 ,  4.  ],\n",
       "        [11.8 , 11.04,  5.3 ]])>]"
      ]
     },
     "execution_count": 11,
     "metadata": {},
     "output_type": "execute_result"
    }
   ],
   "source": [
    "gate_outputs"
   ]
  },
  {
   "cell_type": "code",
   "execution_count": 12,
   "metadata": {},
   "outputs": [],
   "source": [
    "gate_outputs = tf.nn.softmax(gate_outputs)"
   ]
  },
  {
   "cell_type": "code",
   "execution_count": null,
   "metadata": {},
   "outputs": [],
   "source": []
  }
 ],
 "metadata": {
  "kernelspec": {
   "display_name": "Python 3",
   "language": "python",
   "name": "python3"
  },
  "language_info": {
   "codemirror_mode": {
    "name": "ipython",
    "version": 3
   },
   "file_extension": ".py",
   "mimetype": "text/x-python",
   "name": "python",
   "nbconvert_exporter": "python",
   "pygments_lexer": "ipython3",
   "version": "3.7.0"
  }
 },
 "nbformat": 4,
 "nbformat_minor": 2
}
