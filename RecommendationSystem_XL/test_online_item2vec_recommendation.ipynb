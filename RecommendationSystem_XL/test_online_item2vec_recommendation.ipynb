{
 "cells": [
  {
   "cell_type": "code",
   "execution_count": 2,
   "metadata": {},
   "outputs": [],
   "source": [
    "# from gensim.corpora.wikicorpus import WikiCorpus\n",
    "# from gensim.models.word2vec import Word2Vec, LineSentence\n",
    "# from pprint import pprint\n",
    "# from copy import deepcopy\n",
    "# from multiprocessing import cpu_count"
   ]
  },
  {
   "cell_type": "code",
   "execution_count": 3,
   "metadata": {},
   "outputs": [],
   "source": [
    "import jieba\n",
    "import jieba.analyse"
   ]
  },
  {
   "cell_type": "code",
   "execution_count": 4,
   "metadata": {},
   "outputs": [
    {
     "name": "stderr",
     "output_type": "stream",
     "text": [
      "Building prefix dict from the default dictionary ...\n",
      "Dumping model to file cache C:\\Users\\EDZ\\AppData\\Local\\Temp\\jieba.cache\n",
      "Loading model cost 1.751 seconds.\n",
      "Prefix dict has been built successfully.\n"
     ]
    },
    {
     "data": {
      "text/plain": [
       "1"
      ]
     },
     "execution_count": 4,
     "metadata": {},
     "output_type": "execute_result"
    }
   ],
   "source": [
    "jieba.suggest_freq('沙瑞金', True)\n",
    "jieba.suggest_freq('田国富', True)\n",
    "jieba.suggest_freq('高育良', True)\n",
    "jieba.suggest_freq('侯亮平', True)\n",
    "jieba.suggest_freq('钟小艾', True)\n",
    "jieba.suggest_freq('陈岩石', True)\n",
    "jieba.suggest_freq('欧阳菁', True)\n",
    "jieba.suggest_freq('易学习', True)\n",
    "jieba.suggest_freq('王大路', True)\n",
    "jieba.suggest_freq('蔡成功', True)\n",
    "jieba.suggest_freq('孙连城', True)\n",
    "jieba.suggest_freq('季昌明', True)\n",
    "jieba.suggest_freq('丁义珍', True)\n",
    "jieba.suggest_freq('郑西坡', True)\n",
    "jieba.suggest_freq('赵东来', True)\n",
    "jieba.suggest_freq('高小琴', True)\n",
    "jieba.suggest_freq('赵瑞龙', True)\n",
    "jieba.suggest_freq('林华华', True)\n",
    "jieba.suggest_freq('陆亦可', True)\n",
    "jieba.suggest_freq('刘新建', True)\n",
    "jieba.suggest_freq('刘庆祝', True)"
   ]
  },
  {
   "cell_type": "code",
   "execution_count": 13,
   "metadata": {},
   "outputs": [],
   "source": [
    "with open(\"./in_the_name_of_people.txt\", encoding = \"utf-8\") as f:\n",
    "    document = f.read()\n",
    "    document_cnt = jieba.cut(document)\n",
    "    result = ' '.join(document_cnt)\n",
    "    result = result.encode('utf-8')\n",
    "    with open('./in_the_name_of_people_segment.txt', 'wb+') as f2:\n",
    "        f2.write(result)\n",
    "\n",
    "f.close()\n",
    "f2.close()"
   ]
  },
  {
   "cell_type": "code",
   "execution_count": 16,
   "metadata": {},
   "outputs": [
    {
     "name": "stderr",
     "output_type": "stream",
     "text": [
      "2020-09-01 18:01:55,061 : INFO : collecting all words and their counts\n",
      "2020-09-01 18:01:55,066 : INFO : PROGRESS: at sentence #0, processed 0 words, keeping 0 word types\n",
      "2020-09-01 18:01:55,163 : INFO : collected 17878 word types from a corpus of 161343 raw words and 2311 sentences\n",
      "2020-09-01 18:01:55,165 : INFO : Loading a fresh vocabulary\n",
      "2020-09-01 18:01:55,216 : INFO : effective_min_count=1 retains 17878 unique words (100% of original 17878, drops 0)\n",
      "2020-09-01 18:01:55,217 : INFO : effective_min_count=1 leaves 161343 word corpus (100% of original 161343, drops 0)\n",
      "2020-09-01 18:01:55,319 : INFO : deleting the raw counts dictionary of 17878 items\n",
      "2020-09-01 18:01:55,321 : INFO : sample=0.001 downsamples 38 most-common words\n",
      "2020-09-01 18:01:55,322 : INFO : downsampling leaves estimated 120578 word corpus (74.7% of prior 161343)\n",
      "2020-09-01 18:01:55,354 : INFO : constructing a huffman tree from 17878 words\n",
      "2020-09-01 18:01:56,070 : INFO : built huffman tree with maximum node depth 17\n",
      "2020-09-01 18:01:56,150 : INFO : estimated required memory for 17878 words and 100 dimensions: 33968200 bytes\n",
      "2020-09-01 18:01:56,152 : INFO : resetting layer weights\n",
      "2020-09-01 18:01:56,559 : INFO : training model with 3 workers on 17878 vocabulary and 100 features, using sg=0 hs=1 sample=0.001 negative=5 window=3\n",
      "2020-09-01 18:01:56,908 : INFO : worker thread finished; awaiting finish of 2 more threads\n",
      "2020-09-01 18:01:56,910 : INFO : worker thread finished; awaiting finish of 1 more threads\n",
      "2020-09-01 18:01:56,934 : INFO : worker thread finished; awaiting finish of 0 more threads\n",
      "2020-09-01 18:01:56,937 : INFO : EPOCH - 1 : training on 161343 raw words (120329 effective words) took 0.4s, 338925 effective words/s\n",
      "2020-09-01 18:01:57,334 : INFO : worker thread finished; awaiting finish of 2 more threads\n",
      "2020-09-01 18:01:57,335 : INFO : worker thread finished; awaiting finish of 1 more threads\n",
      "2020-09-01 18:01:57,362 : INFO : worker thread finished; awaiting finish of 0 more threads\n",
      "2020-09-01 18:01:57,365 : INFO : EPOCH - 2 : training on 161343 raw words (120484 effective words) took 0.4s, 286235 effective words/s\n",
      "2020-09-01 18:01:57,672 : INFO : worker thread finished; awaiting finish of 2 more threads\n",
      "2020-09-01 18:01:57,684 : INFO : worker thread finished; awaiting finish of 1 more threads\n",
      "2020-09-01 18:01:57,712 : INFO : worker thread finished; awaiting finish of 0 more threads\n",
      "2020-09-01 18:01:57,713 : INFO : EPOCH - 3 : training on 161343 raw words (120571 effective words) took 0.3s, 355951 effective words/s\n",
      "2020-09-01 18:01:58,125 : INFO : worker thread finished; awaiting finish of 2 more threads\n",
      "2020-09-01 18:01:58,134 : INFO : worker thread finished; awaiting finish of 1 more threads\n",
      "2020-09-01 18:01:58,138 : INFO : worker thread finished; awaiting finish of 0 more threads\n",
      "2020-09-01 18:01:58,141 : INFO : EPOCH - 4 : training on 161343 raw words (120615 effective words) took 0.4s, 284384 effective words/s\n",
      "2020-09-01 18:01:58,474 : INFO : worker thread finished; awaiting finish of 2 more threads\n",
      "2020-09-01 18:01:58,477 : INFO : worker thread finished; awaiting finish of 1 more threads\n",
      "2020-09-01 18:01:58,508 : INFO : worker thread finished; awaiting finish of 0 more threads\n",
      "2020-09-01 18:01:58,509 : INFO : EPOCH - 5 : training on 161343 raw words (120482 effective words) took 0.4s, 334672 effective words/s\n",
      "2020-09-01 18:01:58,510 : INFO : training on a 806715 raw words (602481 effective words) took 1.9s, 309216 effective words/s\n"
     ]
    }
   ],
   "source": [
    "import logging\n",
    "import os\n",
    "from gensim.models import word2vec\n",
    "logging.basicConfig(format='%(asctime)s : %(levelname)s : %(message)s', level=logging.INFO)\n",
    "sentences = word2vec.LineSentence('./in_the_name_of_people_segment.txt')\n",
    "model = word2vec.Word2Vec(sentences, hs=1, min_count=1, window=3, size=100)"
   ]
  },
  {
   "cell_type": "code",
   "execution_count": 17,
   "metadata": {},
   "outputs": [
    {
     "data": {
      "text/plain": [
       "2311"
      ]
     },
     "execution_count": 17,
     "metadata": {},
     "output_type": "execute_result"
    }
   ],
   "source": [
    "model.corpus_count"
   ]
  },
  {
   "cell_type": "code",
   "execution_count": null,
   "metadata": {},
   "outputs": [],
   "source": []
  }
 ],
 "metadata": {
  "kernelspec": {
   "display_name": "Python 3",
   "language": "python",
   "name": "python3"
  },
  "language_info": {
   "codemirror_mode": {
    "name": "ipython",
    "version": 3
   },
   "file_extension": ".py",
   "mimetype": "text/x-python",
   "name": "python",
   "nbconvert_exporter": "python",
   "pygments_lexer": "ipython3",
   "version": "3.7.0"
  }
 },
 "nbformat": 4,
 "nbformat_minor": 2
}
