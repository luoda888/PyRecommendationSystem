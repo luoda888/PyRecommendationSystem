{
 "cells": [
  {
   "cell_type": "code",
   "execution_count": 1,
   "metadata": {},
   "outputs": [],
   "source": [
    "import torch\n",
    "import torch.nn as nn\n",
    "from common import MLP, CIN"
   ]
  },
  {
   "cell_type": "code",
   "execution_count": null,
   "metadata": {},
   "outputs": [],
   "source": [
    "class xDeepFM(nn.Module):\n",
    "    def __init__(self, params, get_embeddings=True, use_batchnorm=True, use_dropout=True, use_fm_second_order=False):\n",
    "        super(xDeepFM, self).__init__()\n",
    "        self.device = params['device']\n",
    "        self.mlp_input_dim = params['field_size']*params['embedding_size']\n",
    "        self.use_fm_second_order = use_fm_second_order\n",
    "        \n",
    "        self.first_order = FirstOrder(params)\n",
    "        self.second_order = SecondOrder(params, get_embeddings=get_embeddings)\n",
    "        self.mlp = MLP(params, use_batchnorm=use_batchnorm, use_dropout=use_dropout)\n",
    "        self.cin = CIN(params)\n",
    "        if params['split_half']:\n",
    "            cinOutputSize = reduce(lambda x,y:x//2+y//2, params['cin_hidden_dims'])\n",
    "        else:\n",
    "            cinOutputSize = reduce(lambda x,y:x+y, params['cin_hidden_dims'])\n",
    "        if self.use_fm_second_order:\n",
    "            concat_size = params['field_size']+params['embedding_size']+params['hidden_dims'][-1]+cinOutputSize\n",
    "        else:\n",
    "            concat_size = params['field_size']+params['hidden_dims'][-1]+cinOutputSize\n",
    "        self.concat_layer = nn.Linear(concat_size, 1).to(self.device)\\\n",
    "        \n",
    "    def forward(self, features):\n",
    "        feature_idx = features['feature_idx']\n",
    "        feature_values = features['feature_values']\n",
    "\n",
    "        first_order = self.first_order(feature_value, feature_idx)\n",
    "        second_order, embeddings = self.second_order(feature_values, feature_idx)\n",
    "\n",
    "        mlpInput = embeddings.reshape(embeddings.shape[0], self.mlp_input_dim)\n",
    "        mlpOut = self.mlp(mlpInput)\n",
    "\n",
    "        cinOut = self.cin(embeddings)\n",
    "\n",
    "        if self.use_fm_second_order:\n",
    "            concat = torch.cat([first_order, second_order, mlpOut, cinOut], dim=1)\n",
    "        else:\n",
    "            concat = torch.cat([first_order, mlpOut, cinOut], dim=1)\n",
    "        logits = self.concat_layer(concat)\n",
    "\n",
    "        return logits"
   ]
  }
 ],
 "metadata": {
  "kernelspec": {
   "display_name": "Python 3",
   "language": "python",
   "name": "python3"
  },
  "language_info": {
   "codemirror_mode": {
    "name": "ipython",
    "version": 3
   },
   "file_extension": ".py",
   "mimetype": "text/x-python",
   "name": "python",
   "nbconvert_exporter": "python",
   "pygments_lexer": "ipython3",
   "version": "3.7.0"
  }
 },
 "nbformat": 4,
 "nbformat_minor": 2
}
